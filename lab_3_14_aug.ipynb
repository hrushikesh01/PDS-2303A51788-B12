{
  "nbformat": 4,
  "nbformat_minor": 0,
  "metadata": {
    "colab": {
      "provenance": [],
      "include_colab_link": true
    },
    "kernelspec": {
      "name": "python3",
      "display_name": "Python 3"
    },
    "language_info": {
      "name": "python"
    }
  },
  "cells": [
    {
      "cell_type": "markdown",
      "metadata": {
        "id": "view-in-github",
        "colab_type": "text"
      },
      "source": [
        "<a href=\"https://colab.research.google.com/github/hrushikesh01/PDS-2303A51788-B12/blob/main/lab_3_14_aug.ipynb\" target=\"_parent\"><img src=\"https://colab.research.google.com/assets/colab-badge.svg\" alt=\"Open In Colab\"/></a>"
      ]
    },
    {
      "cell_type": "code",
      "execution_count": null,
      "metadata": {
        "colab": {
          "base_uri": "https://localhost:8080/"
        },
        "id": "kO9KHIxkzHIW",
        "outputId": "ead7959f-1434-4b3d-8a7e-553585270c2e"
      },
      "outputs": [
        {
          "output_type": "stream",
          "name": "stdout",
          "text": [
            "Data:\n",
            " [[78 85 92 88]\n",
            " [67 74 81 79]\n",
            " [90 95 89 84]\n",
            " [76 80 85 83]]\n",
            "Row-wise mean: [85.75 75.25 89.5  81.  ]\n",
            "Column-wise mean: [77.75 83.5  86.75 83.5 ]\n",
            "Standard Deviation: 6.9988838395847095\n",
            "Variance: 48.984375\n",
            "Global Max: 95 at index (np.int64(2), np.int64(1))\n",
            "Global Min: 67 at index (np.int64(1), np.int64(0))\n"
          ]
        }
      ],
      "source": [
        "#Question 1\n",
        "import numpy as np\n",
        "\n",
        "data = np.array([[78, 85, 92, 88],\n",
        "                 [67, 74, 81, 79],\n",
        "                 [90, 95, 89, 84],\n",
        "                 [76, 80, 85, 83]])\n",
        "\n",
        "row_mean = np.mean(data, axis=1)\n",
        "col_mean = np.mean(data, axis=0)\n",
        "\n",
        "std_dev = np.std(data)\n",
        "variance = np.var(data)\n",
        "\n",
        "global_max = np.max(data)\n",
        "global_min = np.min(data)\n",
        "\n",
        "max_index = np.unravel_index(np.argmax(data), data.shape)\n",
        "min_index = np.unravel_index(np.argmin(data), data.shape)\n",
        "\n",
        "print(\"Data:\\n\", data)\n",
        "print(\"Row-wise mean:\", row_mean)\n",
        "print(\"Column-wise mean:\", col_mean)\n",
        "print(\"Standard Deviation:\", std_dev)\n",
        "print(\"Variance:\", variance)\n",
        "print(\"Global Max:\", global_max, \"at index\", max_index)\n",
        "print(\"Global Min:\", global_min, \"at index\", min_index)\n"
      ]
    },
    {
      "cell_type": "code",
      "source": [
        "# Question 2\n",
        "import numpy as np\n",
        "\n",
        "image = np.random.randint(0, 256, (3, 3, 3), dtype=np.uint8)\n",
        "\n",
        "red_channel = image[:, :, 0]\n",
        "green_channel = image[:, :, 1]\n",
        "blue_channel = image[:, :, 2]\n",
        "\n",
        "avg_red = np.mean(red_channel)\n",
        "avg_green = np.mean(green_channel)\n",
        "avg_blue = np.mean(blue_channel)\n",
        "\n",
        "brightened = np.clip(image + 50, 0, 255)\n",
        "\n",
        "print(\"Original Image:\\n\", image)\n",
        "print(\"Red Channel:\\n\", red_channel)\n",
        "print(\"Green Channel:\\n\", green_channel)\n",
        "print(\"Blue Channel:\\n\", blue_channel)\n",
        "print(\"Average Red Intensity:\", avg_red)\n",
        "print(\"Average Green Intensity:\", avg_green)\n",
        "print(\"Average Blue Intensity:\", avg_blue)\n",
        "print(\"Brightened Image:\\n\", brightened)\n"
      ],
      "metadata": {
        "colab": {
          "base_uri": "https://localhost:8080/"
        },
        "id": "yvUFSuTN0pJ5",
        "outputId": "90052e36-64a6-4db7-8154-fb1c890af0d7"
      },
      "execution_count": null,
      "outputs": [
        {
          "output_type": "stream",
          "name": "stdout",
          "text": [
            "Original Image:\n",
            " [[[219  53 106]\n",
            "  [179  82  64]\n",
            "  [120  94 212]]\n",
            "\n",
            " [[248 221 217]\n",
            "  [170 101  72]\n",
            "  [ 63   2 139]]\n",
            "\n",
            " [[153 192  93]\n",
            "  [169 186 254]\n",
            "  [ 18 210 162]]]\n",
            "Red Channel:\n",
            " [[219 179 120]\n",
            " [248 170  63]\n",
            " [153 169  18]]\n",
            "Green Channel:\n",
            " [[ 53  82  94]\n",
            " [221 101   2]\n",
            " [192 186 210]]\n",
            "Blue Channel:\n",
            " [[106  64 212]\n",
            " [217  72 139]\n",
            " [ 93 254 162]]\n",
            "Average Red Intensity: 148.77777777777777\n",
            "Average Green Intensity: 126.77777777777777\n",
            "Average Blue Intensity: 146.55555555555554\n",
            "Brightened Image:\n",
            " [[[ 13 103 156]\n",
            "  [229 132 114]\n",
            "  [170 144   6]]\n",
            "\n",
            " [[ 42  15  11]\n",
            "  [220 151 122]\n",
            "  [113  52 189]]\n",
            "\n",
            " [[203 242 143]\n",
            "  [219 236  48]\n",
            "  [ 68   4 212]]]\n"
          ]
        }
      ]
    }
  ]
}