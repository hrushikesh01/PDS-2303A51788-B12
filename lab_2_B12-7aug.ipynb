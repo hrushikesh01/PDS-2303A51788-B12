{
  "nbformat": 4,
  "nbformat_minor": 0,
  "metadata": {
    "colab": {
      "provenance": [],
      "include_colab_link": true
    },
    "kernelspec": {
      "name": "python3",
      "display_name": "Python 3"
    },
    "language_info": {
      "name": "python"
    }
  },
  "cells": [
    {
      "cell_type": "markdown",
      "metadata": {
        "id": "view-in-github",
        "colab_type": "text"
      },
      "source": [
        "<a href=\"https://colab.research.google.com/github/hrushikesh01/PDS-2303A51788-B12/blob/main/lab_2_B12-7aug.ipynb\" target=\"_parent\"><img src=\"https://colab.research.google.com/assets/colab-badge.svg\" alt=\"Open In Colab\"/></a>"
      ]
    },
    {
      "cell_type": "code",
      "execution_count": null,
      "metadata": {
        "colab": {
          "base_uri": "https://localhost:8080/"
        },
        "id": "bp1xHxyU4X1D",
        "outputId": "74e888a3-3fcc-4245-f12f-9464fd07575a"
      },
      "outputs": [
        {
          "output_type": "stream",
          "name": "stdout",
          "text": [
            "Student Marks (2D Array):\n",
            " [[85 78 92]\n",
            " [74 88 69]\n",
            " [90 94 81]\n",
            " [65 70 60]\n",
            " [88 76 95]]\n",
            "\n",
            "Average Marks (Overall): 80.33333333333333\n",
            "Minimum Marks (Overall): 60\n",
            "Maximum Marks (Overall): 95\n",
            "\n",
            "Marks of Student 3: [90 94 81]\n",
            "\n",
            "Boolean Array (True if mark > 80):\n",
            " [[ True False  True]\n",
            " [False  True False]\n",
            " [ True  True  True]\n",
            " [False False False]\n",
            " [ True False  True]]\n",
            "\n",
            "Marks above 80: [85 92 88 90 94 81 88 95]\n",
            "\n",
            "Subject-wise Performance (Transposed Array):\n",
            " [[85 74 90 65 88]\n",
            " [78 88 94 70 76]\n",
            " [92 69 81 60 95]]\n",
            "\n",
            "Subject-wise Average: [80.4 81.2 79.4]\n",
            "Subject-wise Minimum: [65 70 60]\n",
            "Subject-wise Maximum: [90 94 95]\n"
          ]
        }
      ],
      "source": [
        "#Question-1\n",
        "import numpy as np\n",
        "\n",
        "marks = np.array([\n",
        "    [85, 78, 92],\n",
        "    [74, 88, 69],\n",
        "    [90, 94, 81],\n",
        "    [65, 70, 60],\n",
        "    [88, 76, 95]\n",
        "])\n",
        "\n",
        "print(\"Student Marks (2D Array):\\n\", marks)\n",
        "\n",
        "average_marks = np.mean(marks)\n",
        "min_marks = np.min(marks)\n",
        "max_marks = np.max(marks)\n",
        "\n",
        "print(\"\\nAverage Marks (Overall):\", average_marks)\n",
        "print(\"Minimum Marks (Overall):\", min_marks)\n",
        "print(\"Maximum Marks (Overall):\", max_marks)\n",
        "\n",
        "student3_marks = marks[2]\n",
        "print(\"\\nMarks of Student 3:\", student3_marks)\n",
        "\n",
        "above_80 = marks > 80\n",
        "print(\"\\nBoolean Array (True if mark > 80):\\n\", above_80)\n",
        "\n",
        "marks_above_80 = marks[marks > 80]\n",
        "print(\"\\nMarks above 80:\", marks_above_80)\n",
        "\n",
        "subject_wise = marks.T\n",
        "print(\"\\nSubject-wise Performance (Transposed Array):\\n\", subject_wise)\n",
        "\n",
        "subject_avg = np.mean(subject_wise, axis=1)\n",
        "subject_min = np.min(subject_wise, axis=1)\n",
        "subject_max = np.max(subject_wise, axis=1)\n",
        "\n",
        "print(\"\\nSubject-wise Average:\", subject_avg)\n",
        "print(\"Subject-wise Minimum:\", subject_min)\n",
        "print(\"Subject-wise Maximum:\", subject_max)\n"
      ]
    },
    {
      "cell_type": "code",
      "source": [
        "#Question-2\n",
        "import pandas as pd\n",
        "\n",
        "data = {\n",
        "    \"Name\": [\"Alice\", \"Bob\", \"Charlie\", \"David\", \"Eva\"],\n",
        "    \"ID\": [101, 102, 103, 104, 105],\n",
        "    \"Department\": [\"HR\", \"IT\", \"Finance\", \"IT\", \"Marketing\"],\n",
        "    \"Salary\": [48000, 55000, 72000, 45000, 60000]\n",
        "}\n",
        "\n",
        "df = pd.DataFrame(data)\n",
        "print(\"Initial DataFrame:\\n\", df)\n",
        "\n",
        "high_salary = df[df[\"Salary\"] > 50000]\n",
        "print(\"\\nEmployees with Salary > 50,000:\\n\", high_salary)\n",
        "\n",
        "sorted_df = df.sort_values(by=\"Salary\", ascending=False)\n",
        "print(\"\\nDataFrame Sorted by Salary (Descending):\\n\", sorted_df)\n",
        "\n",
        "df[\"Bonus\"] = df[\"Salary\"] * 0.10\n",
        "print(\"\\nDataFrame with Bonus Column:\\n\", df)\n",
        "\n",
        "total_expense = df[\"Salary\"].sum() + df[\"Bonus\"].sum()\n",
        "print(\"\\nTotal Salary Expense (Including Bonus):\", total_expense)\n",
        "\n",
        "df.to_csv(\"employee_salary_analysis.csv\", index=False)\n",
        "print(\"\\nData saved to 'employee_salary_analysis.csv'\")\n"
      ],
      "metadata": {
        "colab": {
          "base_uri": "https://localhost:8080/"
        },
        "id": "Bhm1qGHa4i21",
        "outputId": "202202d2-91f7-40c6-b982-b9203f9ac8d0"
      },
      "execution_count": null,
      "outputs": [
        {
          "output_type": "stream",
          "name": "stdout",
          "text": [
            "Initial DataFrame:\n",
            "       Name   ID Department  Salary\n",
            "0    Alice  101         HR   48000\n",
            "1      Bob  102         IT   55000\n",
            "2  Charlie  103    Finance   72000\n",
            "3    David  104         IT   45000\n",
            "4      Eva  105  Marketing   60000\n",
            "\n",
            "Employees with Salary > 50,000:\n",
            "       Name   ID Department  Salary\n",
            "1      Bob  102         IT   55000\n",
            "2  Charlie  103    Finance   72000\n",
            "4      Eva  105  Marketing   60000\n",
            "\n",
            "DataFrame Sorted by Salary (Descending):\n",
            "       Name   ID Department  Salary\n",
            "2  Charlie  103    Finance   72000\n",
            "4      Eva  105  Marketing   60000\n",
            "1      Bob  102         IT   55000\n",
            "0    Alice  101         HR   48000\n",
            "3    David  104         IT   45000\n",
            "\n",
            "DataFrame with Bonus Column:\n",
            "       Name   ID Department  Salary   Bonus\n",
            "0    Alice  101         HR   48000  4800.0\n",
            "1      Bob  102         IT   55000  5500.0\n",
            "2  Charlie  103    Finance   72000  7200.0\n",
            "3    David  104         IT   45000  4500.0\n",
            "4      Eva  105  Marketing   60000  6000.0\n",
            "\n",
            "Total Salary Expense (Including Bonus): 308000.0\n",
            "\n",
            "Data saved to 'employee_salary_analysis.csv'\n"
          ]
        }
      ]
    }
  ]
}