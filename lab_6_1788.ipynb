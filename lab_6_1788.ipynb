{
  "nbformat": 4,
  "nbformat_minor": 0,
  "metadata": {
    "colab": {
      "provenance": [],
      "include_colab_link": true
    },
    "kernelspec": {
      "name": "python3",
      "display_name": "Python 3"
    },
    "language_info": {
      "name": "python"
    }
  },
  "cells": [
    {
      "cell_type": "markdown",
      "metadata": {
        "id": "view-in-github",
        "colab_type": "text"
      },
      "source": [
        "<a href=\"https://colab.research.google.com/github/hrushikesh01/PDS-2303A51788-B12/blob/main/lab_6_1788.ipynb\" target=\"_parent\"><img src=\"https://colab.research.google.com/assets/colab-badge.svg\" alt=\"Open In Colab\"/></a>"
      ]
    },
    {
      "cell_type": "code",
      "execution_count": null,
      "metadata": {
        "colab": {
          "base_uri": "https://localhost:8080/"
        },
        "id": "gTydrak3MG8I",
        "outputId": "6d49d313-f24e-4437-d913-ad69b9368307"
      },
      "outputs": [
        {
          "output_type": "stream",
          "name": "stdout",
          "text": [
            "Original Dataset:\n",
            "   Transaction_ID     Product  Quantity  Price\n",
            "0             101      Laptop         1  70000\n",
            "1             102       Mouse         2    500\n",
            "2             103    Keyboard         1   1500\n",
            "3             104     Monitor         1  12000\n",
            "4             105  Headphones         2   2000\n",
            "5             103    Keyboard         1   1500\n",
            "6             104     Monitor         1  12000\n",
            "\n",
            "Duplicate Rows:\n",
            "   Transaction_ID   Product  Quantity  Price\n",
            "5             103  Keyboard         1   1500\n",
            "6             104   Monitor         1  12000\n",
            "\n",
            "Cleaned Dataset:\n",
            "   Transaction_ID     Product  Quantity  Price\n",
            "0             101      Laptop         1  70000\n",
            "1             102       Mouse         2    500\n",
            "2             103    Keyboard         1   1500\n",
            "3             104     Monitor         1  12000\n",
            "4             105  Headphones         2   2000\n",
            "\n",
            "Duplicate Count Before: 2\n",
            "Duplicate Count After: 0\n"
          ]
        }
      ],
      "source": [
        "#Question-1\n",
        "import pandas as pd\n",
        "\n",
        "data = {\n",
        "    \"Transaction_ID\": [101, 102, 103, 104, 105, 103, 104],\n",
        "    \"Product\": [\"Laptop\", \"Mouse\", \"Keyboard\", \"Monitor\", \"Headphones\", \"Keyboard\", \"Monitor\"],\n",
        "    \"Quantity\": [1, 2, 1, 1, 2, 1, 1],\n",
        "    \"Price\": [70000, 500, 1500, 12000, 2000, 1500, 12000]\n",
        "}\n",
        "\n",
        "df = pd.DataFrame(data)\n",
        "print(\"Original Dataset:\")\n",
        "print(df)\n",
        "\n",
        "print(\"\\nDuplicate Rows:\")\n",
        "print(df[df.duplicated()])\n",
        "\n",
        "df_cleaned = df.drop_duplicates()\n",
        "print(\"\\nCleaned Dataset:\")\n",
        "print(df_cleaned)\n",
        "\n",
        "print(\"\\nDuplicate Count Before:\", df.duplicated().sum())\n",
        "print(\"Duplicate Count After:\", df_cleaned.duplicated().sum())\n"
      ]
    },
    {
      "cell_type": "code",
      "source": [
        "#Question 2\n",
        "import pandas as pd\n",
        "\n",
        "data = {\n",
        "    \"Employee_ID\": [1, 2, 3, 4],\n",
        "    \"Name\": [\"Alice\", \"Bob\", \"Charlie\", \"David\"],\n",
        "    \"Salary\": [\"50000\", \"60000\", \"55000\", \"65000\"],\n",
        "    \"Joining_Date\": [\"2022-01-15\", \"2021-06-10\", \"2020-09-23\", \"2023-03-05\"]\n",
        "}\n",
        "\n",
        "df = pd.DataFrame(data)\n",
        "print(\"Original Dataset Info:\")\n",
        "print(df.dtypes)\n",
        "\n",
        "df[\"Salary\"] = pd.to_numeric(df[\"Salary\"])\n",
        "df[\"Joining_Date\"] = pd.to_datetime(df[\"Joining_Date\"])\n",
        "\n",
        "print(\"\\nCorrected Dataset Info:\")\n",
        "print(df.dtypes)\n",
        "print(\"\\nFinal Employee Dataset:\")\n",
        "print(df)\n"
      ],
      "metadata": {
        "colab": {
          "base_uri": "https://localhost:8080/"
        },
        "id": "BjMGwNDtMl_q",
        "outputId": "7b89e0d3-306a-42f4-e84a-99268ce0098f"
      },
      "execution_count": null,
      "outputs": [
        {
          "output_type": "stream",
          "name": "stdout",
          "text": [
            "Original Dataset Info:\n",
            "Employee_ID      int64\n",
            "Name            object\n",
            "Salary          object\n",
            "Joining_Date    object\n",
            "dtype: object\n",
            "\n",
            "Corrected Dataset Info:\n",
            "Employee_ID              int64\n",
            "Name                    object\n",
            "Salary                   int64\n",
            "Joining_Date    datetime64[ns]\n",
            "dtype: object\n",
            "\n",
            "Final Employee Dataset:\n",
            "   Employee_ID     Name  Salary Joining_Date\n",
            "0            1    Alice   50000   2022-01-15\n",
            "1            2      Bob   60000   2021-06-10\n",
            "2            3  Charlie   55000   2020-09-23\n",
            "3            4    David   65000   2023-03-05\n"
          ]
        }
      ]
    }
  ]
}